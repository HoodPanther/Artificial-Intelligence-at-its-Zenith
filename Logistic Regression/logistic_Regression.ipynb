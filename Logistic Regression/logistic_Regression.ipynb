{
 "cells": [
  {
   "cell_type": "markdown",
   "metadata": {},
   "source": [
    "Importing necessary modules"
   ]
  },
  {
   "cell_type": "code",
   "execution_count": 40,
   "metadata": {
    "collapsed": false
   },
   "outputs": [],
   "source": [
    "from sklearn.datasets import load_iris\n",
    "import numpy as np\n",
    "import math"
   ]
  },
  {
   "cell_type": "markdown",
   "metadata": {},
   "source": [
    "Load DataSet"
   ]
  },
  {
   "cell_type": "code",
   "execution_count": 41,
   "metadata": {
    "collapsed": false
   },
   "outputs": [],
   "source": [
    "data = load_iris()\n",
    "x = data.data[:100, :2]\n",
    "y = data.target[:100]"
   ]
  },
  {
   "cell_type": "markdown",
   "metadata": {},
   "source": [
    "Plotting Dataset"
   ]
  },
  {
   "cell_type": "code",
   "execution_count": 42,
   "metadata": {
    "collapsed": false
   },
   "outputs": [
    {
     "data": {
      "image/png": "[encoded data removed]",
      "text/plain": [
       "<matplotlib.figure.Figure at 0x25643c79ac8>"
      ]
     },
     "metadata": {},
     "output_type": "display_data"
    }
   ],
   "source": [
    "import matplotlib.pyplot as plt\n",
    "plt.scatter(x[:50,0], x[:50,1], label='A', color = 'green', marker='+')\n",
    "plt.scatter(x[50:,0], x[50:,1], label='B', color = 'blue', marker='+')\n",
    "plt.legend()\n",
    "plt.show()"
   ]
  },
  {
   "cell_type": "markdown",
   "metadata": {},
   "source": [
    "k"
   ]
  },
  {
   "cell_type": "code",
   "execution_count": 43,
   "metadata": {
    "collapsed": false
   },
   "outputs": [],
   "source": [
    "def logit(betaZero, betaOne,x_i):\n",
    "    return  1.0/(1 + math.e**(-(betaZero + betaOne*x_i)))  \n",
    "\n",
    "def cost_function(betaZero, betaOne):\n",
    "    2.0/n * sum([(self.betaZero + self.betaOne*self.x[i] - self.y[i]) for i in range(n)])\n",
    "    log_func_v = logit(betaZero, betaOne)\n",
    "    step1 = y * np.log(log_func_v)\n",
    "    step2 = (1-y) * np.log(1 - log_func_v)\n",
    "    final = -step1 - step2\n",
    "    return np.mean(final)\n",
    "    return"
   ]
  },
  {
   "cell_type": "code",
   "execution_count": null,
   "metadata": {
    "collapsed": true
   },
   "outputs": [],
   "source": [
    "def gradient_descent():\n",
    "    betaZero = 0.0\n",
    "    betaOne = 0.0\n",
    "    alpha = .001  \n",
    "    iter = 0\n",
    "    ep = .0001\n",
    "    max_iter = 1000\n",
    "    converged = False\n",
    "    # J(theta)\n",
    "    J = 2.0/n * sum([(self.betaZero + self.betaOne*self.x[i] - self.y[i]) for i in range(n)])\n",
    "\n",
    "    while not converged :          \n",
    "        gradZero = 1.0/n * sum([ (self.betaZero + self.betaOne*self.x[i] - self.y[i]) for i in range(n)])\n",
    "        gradOne = 1.0/n * sum([ (self.betaZero + self.betaOne*self.x[i] - self.y[i])*self.x[i] for i in range(n)])\n",
    "\n",
    "        self.betaZero = self.betaZero - self.alpha * gradZero\n",
    "        self.betaOne = self.betaOne - self.alpha * gradOne\n",
    "\n",
    "        error = 2.0/n * sum([(self.betaZero + self.betaOne*self.x[i] - self.y[i]) for i in range(n)])\n",
    "\n",
    "        if abs(J - error) < ep :\n",
    "            print (\"Converged\")\n",
    "            converged = True           \n",
    "        J = error           \n",
    "        iter += 1           \n",
    "        if iter == max_iter :\n",
    "            print(\"Max iteration Reached\")\n",
    "            converged = True\n",
    "    \n",
    "    return (betaZero,betaOne)"
   ]
  }
 ],
 "metadata": {
  "anaconda-cloud": {},
  "kernelspec": {
   "display_name": "Python [conda root]",
   "language": "python",
   "name": "conda-root-py"
  },
  "language_info": {
   "codemirror_mode": {
    "name": "ipython",
    "version": 3
   },
   "file_extension": ".py",
   "mimetype": "text/x-python",
   "name": "python",
   "nbconvert_exporter": "python",
   "pygments_lexer": "ipython3",
   "version": "3.5.2"
  }
 },
 "nbformat": 4,
 "nbformat_minor": 1
}
